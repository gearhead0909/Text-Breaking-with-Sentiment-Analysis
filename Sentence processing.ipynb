{
 "cells": [
  {
   "cell_type": "code",
   "execution_count": 2,
   "metadata": {},
   "outputs": [],
   "source": [
    "import nltk\n",
    "from vaderSentiment.vaderSentiment import SentimentIntensityAnalyzer\n",
    "from nltk.tokenize import sent_tokenize"
   ]
  },
  {
   "cell_type": "code",
   "execution_count": 3,
   "metadata": {},
   "outputs": [],
   "source": [
    "def sentiment_scores(sentence):\n",
    "    sid_obj = SentimentIntensityAnalyzer()\n",
    "    # Calculating the Sentiment Score\n",
    "    sentiment_scores = sid_obj.polarity_scores(sentence)\n",
    "    return sentiment_scores"
   ]
  },
  {
   "cell_type": "code",
   "execution_count": 4,
   "metadata": {},
   "outputs": [],
   "source": [
    "text_2000= \"That doesn't seem like it would be too hard to do, I replied. I've been hearing a lot about the power of a largely vegetarian diet. Just last week, Jenny told me about a study in Finland where it was found that thirty-eight percent of new vegetarians studied reported that they felt far less tired and much more alert after only seven months of this new way of life. I should try eating a salad with every meal. Looking at you, Julian, I might even make the salad the meal. Try it for about a month and judge the results for yourself You will feel phenomenal. Okay. If it's good enough for the sages, it's good enough for me. I promise you I will give it a shot. It doesn't sound like too much of a stretch, and anyway I'm getting pretty tired of firing up the barbeque every night. If I have sold you on the Ritual of Live Nourishment, I think you will love the fourth one. Your student is still holding his empty cup. The fourth ritual is known as the Ritual of Abundant Knowledge. It centers around the whole notion of lifelong learning and expanding your knowledge base for the good of yourself and all those around you. The old 'knowledge is power' idea? It involves far more than that, John. Knowledge is only potential power. For the power to be manifested, it must be applied. Most people know what they should do in any given situation, or in their lives for that matter. The problem is that they don't take daily, consistent action to apply the knowledge and realize their dreams. The Ritual of Abundant Knowledge is all.\""
   ]
  },
  {
   "cell_type": "code",
   "execution_count": 5,
   "metadata": {},
   "outputs": [],
   "source": [
    "res = []\n",
    "text = text_2000\n",
    "# Breaking Sentences\n",
    "textl = sent_tokenize(text)\n",
    "# Sentences in Lines\n",
    "eachInASeparateLine = \"\\n\".join(sent_tokenize(text))\n",
    "# Creating new file\n",
    "for t in textl:\n",
    "    res.append(sentiment_scores(t))"
   ]
  },
  {
   "cell_type": "code",
   "execution_count": 8,
   "metadata": {},
   "outputs": [
    {
     "name": "stdout",
     "output_type": "stream",
     "text": [
      "That doesn't seem like it would be too hard to do, I replied.\n",
      "I've been hearing a lot about the power of a largely vegetarian diet.\n",
      "Just last week, Jenny told me about a study in Finland where it was found that thirty-eight percent of new vegetarians studied reported that they felt far less tired and much more alert after only seven months of this new way of life.\n",
      "I should try eating a salad with every meal.\n",
      "Looking at you, Julian, I might even make the salad the meal.\n",
      "Try it for about a month and judge the results for yourself You will feel phenomenal.\n",
      "Okay.\n",
      "If it's good enough for the sages, it's good enough for me.\n",
      "I promise you I will give it a shot.\n",
      "It doesn't sound like too much of a stretch, and anyway I'm getting pretty tired of firing up the barbeque every night.\n",
      "If I have sold you on the Ritual of Live Nourishment, I think you will love the fourth one.\n",
      "Your student is still holding his empty cup.\n",
      "The fourth ritual is known as the Ritual of Abundant Knowledge.\n",
      "It centers around the whole notion of lifelong learning and expanding your knowledge base for the good of yourself and all those around you.\n",
      "The old 'knowledge is power' idea?\n",
      "It involves far more than that, John.\n",
      "Knowledge is only potential power.\n",
      "For the power to be manifested, it must be applied.\n",
      "Most people know what they should do in any given situation, or in their lives for that matter.\n",
      "The problem is that they don't take daily, consistent action to apply the knowledge and realize their dreams.\n",
      "The Ritual of Abundant Knowledge is all.\n"
     ]
    }
   ],
   "source": [
    "for i in textl:\n",
    "    print (i)"
   ]
  },
  {
   "cell_type": "code",
   "execution_count": 12,
   "metadata": {},
   "outputs": [
    {
     "name": "stdout",
     "output_type": "stream",
     "text": [
      "That doesn't seem like it would be too hard to do, I replied.\n",
      "{'neg': 0.242, 'neu': 0.758, 'pos': 0.0, 'compound': -0.3632}\n",
      "I've been hearing a lot about the power of a largely vegetarian diet.\n",
      "{'neg': 0.0, 'neu': 1.0, 'pos': 0.0, 'compound': 0.0}\n",
      "Just last week, Jenny told me about a study in Finland where it was found that thirty-eight percent of new vegetarians studied reported that they felt far less tired and much more alert after only seven months of this new way of life.\n",
      "{'neg': 0.057, 'neu': 0.889, 'pos': 0.054, 'compound': -0.0294}\n",
      "I should try eating a salad with every meal.\n",
      "{'neg': 0.0, 'neu': 1.0, 'pos': 0.0, 'compound': 0.0}\n",
      "Looking at you, Julian, I might even make the salad the meal.\n",
      "{'neg': 0.0, 'neu': 1.0, 'pos': 0.0, 'compound': 0.0}\n",
      "Try it for about a month and judge the results for yourself You will feel phenomenal.\n",
      "{'neg': 0.0, 'neu': 1.0, 'pos': 0.0, 'compound': 0.0}\n",
      "Okay.\n",
      "{'neg': 0.0, 'neu': 0.0, 'pos': 1.0, 'compound': 0.2263}\n",
      "If it's good enough for the sages, it's good enough for me.\n",
      "{'neg': 0.0, 'neu': 0.633, 'pos': 0.367, 'compound': 0.7003}\n",
      "I promise you I will give it a shot.\n",
      "{'neg': 0.0, 'neu': 0.777, 'pos': 0.223, 'compound': 0.3182}\n",
      "It doesn't sound like too much of a stretch, and anyway I'm getting pretty tired of firing up the barbeque every night.\n",
      "{'neg': 0.259, 'neu': 0.629, 'pos': 0.112, 'compound': -0.4956}\n",
      "If I have sold you on the Ritual of Live Nourishment, I think you will love the fourth one.\n",
      "{'neg': 0.0, 'neu': 0.811, 'pos': 0.189, 'compound': 0.6369}\n",
      "Your student is still holding his empty cup.\n",
      "{'neg': 0.205, 'neu': 0.795, 'pos': 0.0, 'compound': -0.2023}\n",
      "The fourth ritual is known as the Ritual of Abundant Knowledge.\n",
      "{'neg': 0.0, 'neu': 1.0, 'pos': 0.0, 'compound': 0.0}\n",
      "It centers around the whole notion of lifelong learning and expanding your knowledge base for the good of yourself and all those around you.\n",
      "{'neg': 0.0, 'neu': 0.888, 'pos': 0.112, 'compound': 0.4404}\n",
      "The old 'knowledge is power' idea?\n",
      "{'neg': 0.0, 'neu': 1.0, 'pos': 0.0, 'compound': 0.0}\n",
      "It involves far more than that, John.\n",
      "{'neg': 0.0, 'neu': 1.0, 'pos': 0.0, 'compound': 0.0}\n",
      "Knowledge is only potential power.\n",
      "{'neg': 0.0, 'neu': 1.0, 'pos': 0.0, 'compound': 0.0}\n",
      "For the power to be manifested, it must be applied.\n",
      "{'neg': 0.0, 'neu': 1.0, 'pos': 0.0, 'compound': 0.0}\n",
      "Most people know what they should do in any given situation, or in their lives for that matter.\n",
      "{'neg': 0.0, 'neu': 0.939, 'pos': 0.061, 'compound': 0.0258}\n",
      "The problem is that they don't take daily, consistent action to apply the knowledge and realize their dreams.\n",
      "{'neg': 0.126, 'neu': 0.748, 'pos': 0.126, 'compound': 0.0}\n",
      "The Ritual of Abundant Knowledge is all.\n",
      "{'neg': 0.0, 'neu': 1.0, 'pos': 0.0, 'compound': 0.0}\n"
     ]
    }
   ],
   "source": [
    "for i,j in zip(textl,res):\n",
    "    print (i)\n",
    "    print (j)"
   ]
  }
 ],
 "metadata": {
  "kernelspec": {
   "display_name": "Python 3",
   "language": "python",
   "name": "python3"
  },
  "language_info": {
   "codemirror_mode": {
    "name": "ipython",
    "version": 3
   },
   "file_extension": ".py",
   "mimetype": "text/x-python",
   "name": "python",
   "nbconvert_exporter": "python",
   "pygments_lexer": "ipython3",
   "version": "3.9.1"
  }
 },
 "nbformat": 4,
 "nbformat_minor": 4
}
